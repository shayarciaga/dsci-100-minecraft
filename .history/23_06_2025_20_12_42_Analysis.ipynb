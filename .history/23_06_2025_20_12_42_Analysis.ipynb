{
 "cells": [
  {
   "cell_type": "markdown",
   "id": "7c0576d1-5452-4483-8099-1b505dbc4b79",
   "metadata": {},
   "source": [
    "# Data Science project\n",
    "\n",
    "This project explores the MineCraft server and player data collected by the Frank Woods reseach group in Computer Science at UBC to explore if certain player charachteristics are predictive of a newsletter subscription. \n",
    "\n",
    "https://plai.cs.ubc.ca/\n",
    "https://www.cs.ubc.ca/~fwood/"
   ]
  },
  {
   "cell_type": "markdown",
   "id": "f6691eda-8c8a-48ac-8261-d97d53cb2ebe",
   "metadata": {},
   "source": [
    "\n",
    "\n",
    "# Question: Is there a relationship between hours played and age that predicts wheather a player has a newsletter subscription?\n",
    "\n"
   ]
  },
  {
   "cell_type": "code",
   "execution_count": null,
   "id": "6d23f86d-442d-4654-b55c-c09cabc50996",
   "metadata": {},
   "outputs": [],
   "source": [
    "library(tidyverse)\n",
    "library(repr)\n",
    "library(tidymodels)\n",
    "options(repr.matrix.max.rows = 6)"
   ]
  },
  {
   "cell_type": "markdown",
   "id": "e6b797b3-7c61-4062-b04b-a11d0fcda52f",
   "metadata": {},
   "source": [
    "# Variable Exploration\n",
    "\n",
    "The first steps is to read the data, explore each variable, clean it and mutate the response variable into a factor to tell R that this is a classification problem."
   ]
  },
  {
   "cell_type": "code",
   "execution_count": null,
   "id": "e6c0391c-9b6f-42de-9f0f-809b06315eee",
   "metadata": {},
   "outputs": [],
   "source": [
    "player_data <- read_csv(\"data/players.csv\") |>\n",
    "    mutate(subscribe = as_factor(subscribe))\n",
    "player_data"
   ]
  },
  {
   "cell_type": "code",
   "execution_count": null,
   "id": "b8f13d24-4a52-48c3-a3a0-dded256a3289",
   "metadata": {},
   "outputs": [],
   "source": [
    "player_data |>\n",
    " summarise(\n",
    "    mean_played = mean(played_hours, na.rm = TRUE),\n",
    "    range_played = max(played_hours, na.rm = TRUE) - min(played_hours, na.rm = TRUE),\n",
    "    sd_played = sd(played_hours, na.rm = TRUE),\n",
    "    \n",
    "    mean_age = mean(Age, na.rm = TRUE),\n",
    "    range_age = max(Age, na.rm = TRUE) - min(Age, na.rm = TRUE),\n",
    "    sd_age = sd(Age, na.rm = TRUE)\n",
    "  )   \n",
    "\n",
    "player_data |>\n",
    "    count(experience)\n",
    "\n",
    "player_data |>\n",
    "    count(gender) |>\n",
    "    print(n = Inf)\n",
    "\n",
    "table(player_data$subscribe)"
   ]
  },
  {
   "cell_type": "markdown",
   "id": "5b06e6eb-1ca6-4373-ad53-ccf7b33776f5",
   "metadata": {},
   "source": [
    "# Variables in the `player.csv` data set: \n",
    "\n",
    "- experience: a skill ranking - beginner(35), amature(63), regular(36), pro(14) and veteran(48)\n",
    "\n",
    "- subscribe: whether an individual is subscribed or not to the newsletter\n",
    "    - TRUE: subscribed(144)\n",
    "    - FALSE: unsubscribed(52)\n",
    "\n",
    "- hashedEmail: encrypted email address\n",
    "\n",
    "- played_hours: total played hours\n",
    "    - range: 5.8h\n",
    "    - mean: 223.1h\n",
    "    - standard deviation: 28.3\n",
    "\n",
    "- name: first name\n",
    "\n",
    "- gender: individuals gender list\n",
    "\n",
    "    - 1 Agender(2)              \n",
    "    - Female(37)               \n",
    "    - Male(124)                 \n",
    "    - Non-binary(15)            \n",
    "    - Other(1)                  \n",
    "    - Prefer not to say(11)     \n",
    "    - Two-Spirited(6)          \n",
    "\n",
    "- Age: age in years \n",
    "    - range: 42 y/o\n",
    "    - mean: 20.5 y/o\n",
    "    - standard deviation: 6.1 y/o"
   ]
  },
  {
   "cell_type": "markdown",
   "id": "a69f1964-cbf9-46fd-8480-1737c985defc",
   "metadata": {},
   "source": [
    "Now, we select the variables we are using as our predictors (`Age` and `played_hours`) and our outcome variable (`subscribe`)"
   ]
  },
  {
   "cell_type": "code",
   "execution_count": null,
   "id": "2b7a75ed-1790-44b9-ad19-92407577019e",
   "metadata": {},
   "outputs": [],
   "source": [
    "select_player_data <- player_data |> \n",
    "    select(subscribe, Age, played_hours)\n",
    "select_player_data\n",
    "\n",
    "summary(select_player_data)"
   ]
  },
  {
   "cell_type": "markdown",
   "id": "430ee7ae-1dfd-4edc-9252-77b790c12c1a",
   "metadata": {},
   "source": [
    "Let's visualize the data on a scatter plot to see if there's an obvious relationship between age and hours played on subscription.\n",
    "\n",
    "We also need to consider that the proportion of players with a subscription (144) VS those without (52) is very unequal - this may become a problem when training our model for classification."
   ]
  },
  {
   "cell_type": "code",
   "execution_count": null,
   "id": "53164770-7efe-405f-b37d-66e12fd564ac",
   "metadata": {},
   "outputs": [],
   "source": [
    "options(repr.plot.height = 6, repr.plot.width = 9)\n",
    "\n",
    "player_data_plot <- select_player_data |>\n",
    "    ggplot(aes(x = played_hours, y = Age, color = subscribe)) +\n",
    "    geom_point(alpha = 0.4) +\n",
    "    labs(x = \"Number of hours played\", \n",
    "         y = \"Age\", \n",
    "         title = \"Figure 1 Exploring relationship b/w Age and Number of hours played on subscription\",\n",
    "        color = \"subsciption\") +  \n",
    "    theme(text = element_text(size = 13))\n",
    "player_data_plot "
   ]
  },
  {
   "cell_type": "markdown",
   "id": "2f14bf3d-8d1f-4944-abf7-534ebb093dd9",
   "metadata": {},
   "source": [
    "From Figure 1. we can clearly see that all individuals with a high number of hours played (roughly 25h+)have newsletter subscriptions. However, individuals with 0 hours vary in subscriptions which might make it hard for our classifier to predict the class due to the ambiguity. \n",
    "\n",
    "\n",
    "Deciding on a method\n",
    "\n",
    "knn classification - qualitative predictions and makes no assumption about the shape of the data, perfect for this data because its plotted in a non-linear shape\n",
    "\n",
    "linear regression - quantitative predictions and only works well for data with a linear relationship"
   ]
  },
  {
   "cell_type": "markdown",
   "id": "cb7f6faa-3d36-425a-803d-6e506527680a",
   "metadata": {},
   "source": [
    "# Data Analysis\n",
    "To determine if there's a relationship between hours played and age that predicts whether a player has a subscription, I approached this question as a knn classification problem because the response variable is binary and we are trying to determine the boundary that splits data points into classes.\n",
    "\n"
   ]
  },
  {
   "cell_type": "markdown",
   "id": "96c63d30-1bca-4552-9c32-8f0e42cdaaa5",
   "metadata": {},
   "source": [
    "Limitation of knn classification: \n",
    "- sensitive to class imbalance\n",
    "- sensitive to unscaled ranges; must scale predictors\n",
    "- can be over or underfit based off K value\n",
    "- hard to interpret"
   ]
  },
  {
   "cell_type": "markdown",
   "id": "2d119b86-a72c-4fde-afb4-323576f4327f",
   "metadata": {},
   "source": [
    "Split data \n",
    "\n",
    "- Create training set (75% of the data) and testing (25% of the data)\n",
    "- Evaluate proportions within each"
   ]
  },
  {
   "cell_type": "code",
   "execution_count": null,
   "id": "59b0141b-81da-4ef0-8057-2053e7a2f418",
   "metadata": {},
   "outputs": [],
   "source": [
    "set.seed(111)\n",
    "\n",
    "player_split <- initial_split(player_data, prop = 0.75, strata = subscribe)\n",
    "player_train <- training(player_split)\n",
    "player_test <- testing(player_split)\n",
    "\n",
    "table(player_train$subscribe)\n",
    "table(player_test$subscribe)\n",
    "\n",
    "player_train <- player_train |>\n",
    "    drop_na()\n",
    "player_test <- player_test |>\n",
    "    drop_na()\n",
    "\n",
    "\n",
    "player_train_proportions <- player_train |>\n",
    "                      group_by(subscribe) |>\n",
    "                      summarize(n = n()) |>\n",
    "                      mutate(percent = 100*n/nrow(player_train))\n",
    "\n",
    "player_train_proportions"
   ]
  },
  {
   "cell_type": "markdown",
   "id": "aaf914b9-4842-459a-8db0-b289a7fd4a4d",
   "metadata": {},
   "source": [
    "There appears to be more TRUE class in both data sets. Looking at the proportions in the training data, we need to keep in mind that this class imbalance of only 26% of the unsubscribed class might be an issue because the classifier might learn to predict the majority class, subscribed, most of the time. This might also affect precison and recall, which will be discussed later."
   ]
  },
  {
   "cell_type": "markdown",
   "id": "f3aa29d1-b4d9-47ec-89d9-918eb0a105fa",
   "metadata": {},
   "source": [
    "# Cross validation\n",
    "- Split the training data into 5 folds to perform a reliable estimate of performance while keeping computational costs low\n",
    "- Preprocess data to scale predictors & specify model as a knn classifier\n",
    "- Selected a range of K values 1-25 and step size of 1 to avoid underfitting the data because of the ambiguity of individuals with 0 played hours we want to pick up on any important shapes in the data"
   ]
  },
  {
   "cell_type": "code",
   "execution_count": null,
   "id": "343935cb-90e2-4702-9883-12d8a1a42398",
   "metadata": {},
   "outputs": [],
   "source": [
    "set.seed(111)\n",
    "\n",
    "player_vfold <- vfold_cv(player_train, v = 5, strata = subscribe)\n",
    "\n",
    "\n",
    "player_recipe <- recipe(subscribe ~ Age + played_hours,\n",
    "                        data = player_train) |>\n",
    "  step_scale(all_predictors()) |>\n",
    "  step_center(all_predictors())\n",
    "\n",
    "knn_spec <- nearest_neighbor(weight_func = \"rectangular\",\n",
    "                             neighbors = tune()) |>\n",
    "  set_engine(\"kknn\") |>\n",
    "  set_mode(\"classification\")\n",
    "\n",
    "k_vals <- tibble(neighbors = seq(from = 1, to = 25, by = 1))\n",
    "\n",
    "knn_results <- workflow() |>\n",
    "  add_recipe(player_recipe) |>\n",
    "  add_model(knn_spec) |>\n",
    "  tune_grid(resamples = player_vfold, grid = k_vals) |>\n",
    "  collect_metrics()\n",
    "\n",
    "accuracies <- knn_results |>\n",
    "  filter(.metric == \"accuracy\")\n",
    "\n",
    "accuracies\n"
   ]
  },
  {
   "cell_type": "markdown",
   "id": "56249121-95a3-4f1d-8dd9-01e7f4b08091",
   "metadata": {},
   "source": [
    "To find the optimal k value within our range, let's visualize the estimated accuracy of each k and pull the highest estimated accuracy."
   ]
  },
  {
   "cell_type": "code",
   "execution_count": null,
   "id": "a233f13c-a740-49e1-8117-1e35b8844b29",
   "metadata": {},
   "outputs": [],
   "source": [
    "set.seed(111)\n",
    "\n",
    "accuracy_vs_k <- ggplot(accuracies, aes(x = neighbors, y = mean)) +\n",
    "  geom_point() +\n",
    "  geom_line() +\n",
    "  labs(x = \"Neighbors\", \n",
    "       y = \"Accuracy Estimate\",\n",
    "      title = \"Figure 2. K neighbors VS accuracy estimate\") +\n",
    "  theme(text = element_text(size = 12))\n",
    "\n",
    "accuracy_vs_k\n",
    "\n",
    "best_k <- accuracies |>\n",
    "        arrange(desc(mean)) |>\n",
    "        head(1) |>\n",
    "        pull(neighbors)\n",
    "best_k"
   ]
  },
  {
   "cell_type": "markdown",
   "id": "818c0e7a-88e2-45ff-861c-3c7fc416ea77",
   "metadata": {},
   "source": [
    "In this case the best number of neighbors from a  was k = 24 with roughly 75% accuracy. The higher k value means that the model benefits from some generalization.\n",
    "\n",
    "Next, we implement the best k into the workflow."
   ]
  },
  {
   "cell_type": "code",
   "execution_count": null,
   "id": "876c3b15-0163-4896-a2cb-ebcd3089201d",
   "metadata": {},
   "outputs": [],
   "source": [
    "set.seed(111)\n",
    "\n",
    "player_recipe <- recipe(subscribe ~ Age + played_hours, data = player_train) |>\n",
    "  step_scale(all_predictors()) |>\n",
    "  step_center(all_predictors())\n",
    "\n",
    "knn_spec2 <- nearest_neighbor(weight_func = \"rectangular\", neighbors = best_k) |>\n",
    "  set_engine(\"kknn\") |>\n",
    "  set_mode(\"classification\")\n",
    "\n",
    "knn_fit2 <- workflow() |>\n",
    "  add_recipe(player_recipe) |>\n",
    "  add_model(knn_spec2) |>\n",
    "  fit(data = player_train)\n",
    "\n",
    "knn_fit2"
   ]
  },
  {
   "cell_type": "markdown",
   "id": "b82db29b-9759-4be0-85f5-19e71c6dbdb8",
   "metadata": {},
   "source": [
    "Now, we will look at accuracy, recall and precision of the classifier using the testing data"
   ]
  },
  {
   "cell_type": "code",
   "execution_count": null,
   "id": "4cd9e116-49ba-4fac-a8cb-e6822719fd02",
   "metadata": {},
   "outputs": [],
   "source": [
    "set.seed(111)\n",
    "\n",
    "levels(player_test$subscribe)\n",
    "\n",
    "player_test_predictions2 <- predict(knn_fit2, player_test) |>\n",
    "  bind_cols(player_test)\n",
    "\n",
    "player_test_predictions2 |>\n",
    "  metrics(truth = subscribe, estimate = .pred_class) |>\n",
    "  filter(.metric == \"accuracy\")\n",
    "\n",
    "\n",
    "player_test_predictions2 |>\n",
    "    precision(truth = subscribe, estimate = .pred_class, event_level=\"second\")\n",
    "\n",
    "player_test_predictions2 |>\n",
    "    recall(truth = subscribe, estimate = .pred_class, event_level=\"second\")\n",
    "\n",
    "confusion <- player_test_predictions2 |>\n",
    "             conf_mat(truth = subscribe, estimate = .pred_class)\n",
    "confusion"
   ]
  },
  {
   "cell_type": "code",
   "execution_count": null,
   "id": "2d818034-3b85-4c62-8d8f-bfab51673e28",
   "metadata": {},
   "outputs": [],
   "source": [
    "conf_tibble <- as_tibble(confusion$table)\n",
    "conf_tibble\n",
    "\n"
   ]
  },
  {
   "cell_type": "markdown",
   "id": "805a98bc-ff98-4d9a-81f1-e5b7bb54cc3d",
   "metadata": {},
   "source": [
    "- Precision of roughly 78% means that when the model predicts a player is subscribed, it is correct about 78% of the time. So, there are some false positives which are cases where the model predicts subscribed but the player is actually unsubscribed.\n",
    "\n",
    "- Recall = 100% means the model successfully identified all actual subscribed players so it never missed a subscribed player (no false negatives). This is excellent sensitivity for detecting subscribers.\n",
    "\n",
    "- Accuracy of roughly 79% seems reasonably high, but given the class imbalance (about 73% subscribed), this could be inflated by the model’s tendency to predict subscribed more often.\n",
    "\n",
    "From the confusion matrix, the model misclassifies 10 unsubscribed players as subscribed (false positives), but it correctly identifies 3 unsubscribed players (true negatives).\n",
    "\n",
    "The false positives indicate the model tends to over-predict subscription, meaning it may flag some unsubscribed players as subscribed, reducing precision."
   ]
  },
  {
   "cell_type": "markdown",
   "id": "a76e1f76-ffcc-4725-9ae5-a65ced0ed9ee",
   "metadata": {},
   "source": [
    "# Plot predicted VS actual values"
   ]
  },
  {
   "cell_type": "code",
   "execution_count": null,
   "id": "28d6a6c9-7a48-411b-bf8d-3f89a211ad00",
   "metadata": {},
   "outputs": [],
   "source": [
    "bar_plot <- conf_tibble |>\n",
    "    ggplot(aes(x = Truth, y = n, fill = Prediction)) +\n",
    "  geom_bar(stat = \"identity\", position = \"fill\") +\n",
    "  labs(\n",
    "    title = \"Figure 3. Confusion Matrix as Bar Plot\",\n",
    "    x = \"ACTUAL Subscription Status\",\n",
    "    y = \"Number of Players\",\n",
    "    fill = \"Predicted Status by classifier\"\n",
    "  ) +\n",
    "  theme_minimal()\n",
    "\n",
    "bar_plot"
   ]
  },
  {
   "cell_type": "markdown",
   "id": "a2686bb2-bf51-4c31-b1c1-0d43bb3db759",
   "metadata": {},
   "source": [
    "Figure 3 shows that the classifier correctly identified all subscribed users (TRUE class), achieving perfect recall for this class. For the unsubscribed users (FALSE class), the classifier correctly predicted about 75% of cases, indicating a reasonably good, but not perfect, recall for the minority class.\n",
    "\n",
    "This result aligns with expectations given the class imbalance in the data, where approximately 75% were subscribed and 25% unsubscribed. The model tends to favor the majority subscribed class but still maintains decent performance on the minority unsubscribed class.\n"
   ]
  },
  {
   "cell_type": "markdown",
   "id": "e3c95494-6ca0-467f-94a2-9290ae14cc44",
   "metadata": {},
   "source": [
    "The classifiers performance suggests there is some predictive relationship between hours played, age, and newsletter subscription, because of the 79% accuracy suggesting that there is a pattern that the model learned. However, because of the class imbalance we cannot be sure its because of learning meaningful shapes in the data or the high ratio of the TRUE class.\n",
    "\n",
    "In other words, while hours played and age provide useful signals to predict newsletter subscription status, the model’s imperfect performance (especially in detecting unsubscribed players) suggests that these variables alone may not fully explain subscription behavior. Further features or data could improve prediction."
   ]
  },
  {
   "cell_type": "markdown",
   "id": "acc812d8-1432-4eca-9542-5052882a99bf",
   "metadata": {},
   "source": [
    "Impact:\n",
    "\n",
    "This classifiers tendancy to confidently predict subscribed users somewhat allows Frank Woods research group to use Age and Played Hours as newsletter subscription predictors. At least with some false positives (players predicted to subscribe but actually didn't) and prefect recall of the TRUE (subscribed) class they will not be missing any players that might be a good target to send newsletter subscription ads.\n",
    "\n",
    "Improvement:\n",
    "\n",
    "While hours played and age provide useful signals to predict newsletter subscription status, the model’s imperfect performance (especially in detecting unsubscribed players) suggests that these variables alone may not fully explain subscription behavior. To further improve recall and overall balance, applying techniques such as step_downsample() to reduce the majority class size or other sampling methods could help the model better learn the patterns in the minority class, potentially increasing the accuracy of predictions for unsubscribed players.\n",
    "\n"
   ]
  },
  {
   "cell_type": "code",
   "execution_count": null,
   "id": "76e7d210-a336-43bb-9cf8-6f3ef1461e35",
   "metadata": {},
   "outputs": [],
   "source": []
  }
 ],
 "metadata": {
  "kernelspec": {
   "display_name": "R",
   "language": "R",
   "name": "ir"
  },
  "language_info": {
   "codemirror_mode": "r",
   "file_extension": ".r",
   "mimetype": "text/x-r-source",
   "name": "R",
   "pygments_lexer": "r",
   "version": "4.3.3"
  }
 },
 "nbformat": 4,
 "nbformat_minor": 5
}
