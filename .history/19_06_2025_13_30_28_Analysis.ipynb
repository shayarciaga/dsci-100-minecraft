{
 "cells": [
  {
   "cell_type": "markdown",
   "id": "7c0576d1-5452-4483-8099-1b505dbc4b79",
   "metadata": {},
   "source": [
    "# Data Science project\n",
    "\n",
    "This project explores the MineCraft server and player data collected by the Frank Woods reseach group in Computer Science at UBC to explore if certain player charachteristics are predictive of a newsletter subscription. \n",
    "\n",
    "https://plai.cs.ubc.ca/\n",
    "https://www.cs.ubc.ca/~fwood/"
   ]
  },
  {
   "cell_type": "markdown",
   "id": "f6691eda-8c8a-48ac-8261-d97d53cb2ebe",
   "metadata": {},
   "source": [
    "\n",
    "\n",
    "# Question: Is there a relationship between hours played and age that predicts wheather a player has a newsletter subscription?\n",
    "\n"
   ]
  },
  {
   "cell_type": "code",
   "execution_count": null,
   "id": "6d23f86d-442d-4654-b55c-c09cabc50996",
   "metadata": {},
   "outputs": [],
   "source": [
    "library(tidyverse)\n",
    "library(repr)\n",
    "library(tidymodels)\n",
    "options(repr.matrix.max.rows = 6)"
   ]
  },
  {
   "cell_type": "markdown",
   "id": "e6b797b3-7c61-4062-b04b-a11d0fcda52f",
   "metadata": {},
   "source": [
    "# Variable Exploration\n",
    "\n",
    "The first steps is to read the data, explore each variable and mutate the response variable into a factor to tell R that this is a classification problem."
   ]
  },
  {
   "cell_type": "code",
   "execution_count": null,
   "id": "e6c0391c-9b6f-42de-9f0f-809b06315eee",
   "metadata": {},
   "outputs": [],
   "source": [
    "player_data <- read_csv(\"data/players.csv\") |>\n",
    "    mutate(subscribe = as_factor(subscribe))\n",
    "player_data"
   ]
  },
  {
   "cell_type": "code",
   "execution_count": null,
   "id": "b8f13d24-4a52-48c3-a3a0-dded256a3289",
   "metadata": {},
   "outputs": [],
   "source": [
    "player_data |>\n",
    " summarise(\n",
    "    mean_played = mean(played_hours, na.rm = TRUE),\n",
    "    range_played = max(played_hours, na.rm = TRUE) - min(played_hours, na.rm = TRUE),\n",
    "    sd_played = sd(played_hours, na.rm = TRUE),\n",
    "    \n",
    "    mean_age = mean(Age, na.rm = TRUE),\n",
    "    range_age = max(Age, na.rm = TRUE) - min(Age, na.rm = TRUE),\n",
    "    sd_age = sd(Age, na.rm = TRUE)\n",
    "  )   \n",
    "\n",
    "player_data |>\n",
    "    count(experience)\n",
    "\n",
    "player_data |>\n",
    "    count(gender) |>\n",
    "    print(n = Inf)\n",
    "\n",
    "table(player_data$subscribe)"
   ]
  },
  {
   "cell_type": "markdown",
   "id": "5b06e6eb-1ca6-4373-ad53-ccf7b33776f5",
   "metadata": {},
   "source": [
    "# Variables in the `player.csv` data set: \n",
    "\n",
    "- experience: a skill ranking - beginner(35), amature(63), regular(36), pro(14) and veteran(48)\n",
    "\n",
    "- subscribe: whether an individual is subscribed or not to the newsletter\n",
    "    - TRUE: subscribed(144)\n",
    "    - FALSE: unsubscribed(52)\n",
    "\n",
    "- hashedEmail: encrypted email address\n",
    "\n",
    "- played_hours: total played hours\n",
    "    - range: 5.8h\n",
    "    - mean: 223.1h\n",
    "    - standard deviation: 28.3\n",
    "\n",
    "- name: first name\n",
    "\n",
    "- gender: individuals gender list\n",
    "\n",
    "    - 1 Agender(2)              \n",
    "    - Female(37)               \n",
    "    - Male(124)                 \n",
    "    - Non-binary(15)            \n",
    "    - Other(1)                  \n",
    "    - Prefer not to say(11)     \n",
    "    - Two-Spirited(6)          \n",
    "\n",
    "- Age: age in years \n",
    "    - range: 42 y/o\n",
    "    - mean: 20.5 y/o\n",
    "    - standard deviation: 6.1 y/o"
   ]
  },
  {
   "cell_type": "markdown",
   "id": "a69f1964-cbf9-46fd-8480-1737c985defc",
   "metadata": {},
   "source": [
    "Now, we select the variables we are using as our predictors (`Age` and `played_hours`) and our outcome variable (`subscribe`)"
   ]
  },
  {
   "cell_type": "code",
   "execution_count": null,
   "id": "2b7a75ed-1790-44b9-ad19-92407577019e",
   "metadata": {},
   "outputs": [],
   "source": [
    "select_player_data <- player_data |> \n",
    "    select(subscribe, Age, played_hours)\n",
    "select_player_data\n",
    "\n",
    "summary(select_player_data)"
   ]
  },
  {
   "cell_type": "markdown",
   "id": "430ee7ae-1dfd-4edc-9252-77b790c12c1a",
   "metadata": {},
   "source": [
    "Let's visualize the data on a scatter plot to see if there's an obvious relationship between age and hours played on subscription"
   ]
  },
  {
   "cell_type": "code",
   "execution_count": null,
   "id": "53164770-7efe-405f-b37d-66e12fd564ac",
   "metadata": {},
   "outputs": [],
   "source": [
    "options(repr.plot.height = 6, repr.plot.width = 9)\n",
    "\n",
    "player_data_plot <- select_player_data |>\n",
    "    ggplot(aes(x = played_hours, y = Age, color = subscribe)) +\n",
    "    geom_point(alpha = 0.4) +\n",
    "    labs(x = \"Number of hours played\", \n",
    "         y = \"Age\", \n",
    "         title = \"Figure 1 Exploring relationship b/w Age and Number of hours played on subscription\",\n",
    "        color = \"subsciption\") +  \n",
    "    theme(text = element_text(size = 13))\n",
    "player_data_plot "
   ]
  },
  {
   "cell_type": "markdown",
   "id": "2f14bf3d-8d1f-4944-abf7-534ebb093dd9",
   "metadata": {},
   "source": [
    "From Figure 1. we can clearly see that all individuals with a high number of hours played (roughly 25h+)have newsletter subscriptions. However, individuals with 0 hours vary in subscriptions which might make it hard for our classifier to predict the class. \n",
    "\n",
    "We also need to consider that the proportion of players with a subscription (144) VS those without (52) is very unequal. "
   ]
  },
  {
   "cell_type": "markdown",
   "id": "cb7f6faa-3d36-425a-803d-6e506527680a",
   "metadata": {},
   "source": [
    "# Data Analysis\n",
    "To determine if there's a relationship between hours played and age that predicts whether a player has a subscription, I approached this question as a classification problem."
   ]
  },
  {
   "cell_type": "markdown",
   "id": "2d119b86-a72c-4fde-afb4-323576f4327f",
   "metadata": {},
   "source": [
    "Split data \n",
    "\n",
    "- Create training set and testing \n",
    "- Evaluate proportions"
   ]
  },
  {
   "cell_type": "code",
   "execution_count": null,
   "id": "59b0141b-81da-4ef0-8057-2053e7a2f418",
   "metadata": {},
   "outputs": [],
   "source": [
    "set.seed(111)\n",
    "\n",
    "player_split <- initial_split(player_data, prop = 0.75, strata = subscribe)\n",
    "player_train <- training(player_split)\n",
    "player_test <- testing(player_split)\n",
    "\n",
    "table(player_train$subscribe)\n",
    "table(player_test$subscribe)\n",
    "\n",
    "player_train <- player_train |>\n",
    "    drop_na()\n",
    "player_test <- player_test |>\n",
    "    drop_na()\n",
    "\n",
    "\n",
    "player_train_proportions <- player_train |>\n",
    "                      group_by(subscribe) |>\n",
    "                      summarize(n = n()) |>\n",
    "                      mutate(percent = 100*n/nrow(player_train))\n",
    "\n",
    "player_train_proportions"
   ]
  },
  {
   "cell_type": "markdown",
   "id": "aaf914b9-4842-459a-8db0-b289a7fd4a4d",
   "metadata": {},
   "source": [
    "Looking at the proportions in the training data, we need to keep in mind that this class imbalance might be an issue because the classifier might learn to predict the majority class, subscribed, most of the time. This might also affect precison and recall, which will be discussed later."
   ]
  },
  {
   "cell_type": "markdown",
   "id": "f3aa29d1-b4d9-47ec-89d9-918eb0a105fa",
   "metadata": {},
   "source": [
    "# Cross validation\n",
    "- Split the training data into 5 folds to perform a reliable estimate of performance while keeping computational costs low\n",
    "- Preprocess data to scale predictors & specify model as a knn classifier\n",
    "- "
   ]
  },
  {
   "cell_type": "code",
   "execution_count": null,
   "id": "343935cb-90e2-4702-9883-12d8a1a42398",
   "metadata": {},
   "outputs": [],
   "source": [
    "set.seed(111)\n",
    "\n",
    "player_vfold <- vfold_cv(player_train, v = 5, strata = subscribe)\n",
    "\n",
    "\n",
    "player_recipe <- recipe(subscribe ~ Age + played_hours,\n",
    "                        data = player_train) |>\n",
    "  step_scale(all_predictors()) |>\n",
    "  step_center(all_predictors())\n",
    "\n",
    "knn_spec <- nearest_neighbor(weight_func = \"rectangular\",\n",
    "                             neighbors = tune()) |>\n",
    "  set_engine(\"kknn\") |>\n",
    "  set_mode(\"classification\")\n",
    "\n",
    "k_vals <- tibble(neighbors = seq(from = 1, to = 30, by = 2))\n",
    "\n",
    "knn_results <- workflow() |>\n",
    "  add_recipe(player_recipe) |>\n",
    "  add_model(knn_spec) |>\n",
    "  tune_grid(resamples = player_vfold, grid = k_vals) |>\n",
    "  collect_metrics()\n",
    "\n",
    "accuracies <- knn_results |>\n",
    "  filter(.metric == \"accuracy\")\n",
    "\n",
    "accuracies\n"
   ]
  },
  {
   "cell_type": "code",
   "execution_count": null,
   "id": "a233f13c-a740-49e1-8117-1e35b8844b29",
   "metadata": {},
   "outputs": [],
   "source": [
    "set.seed(111)\n",
    "\n",
    "accuracy_vs_k <- ggplot(accuracies, aes(x = neighbors, y = mean)) +\n",
    "  geom_point() +\n",
    "  geom_line() +\n",
    "  labs(x = \"Neighbors\", \n",
    "       y = \"Accuracy Estimate\",\n",
    "      title = \"Figure 2. K neighbors VS accuracy estimate\") +\n",
    "  theme(text = element_text(size = 12))\n",
    "\n",
    "accuracy_vs_k\n",
    "\n",
    "best_k <- accuracies |>\n",
    "        arrange(desc(mean)) |>\n",
    "        head(1) |>\n",
    "        pull(neighbors)\n",
    "best_k"
   ]
  },
  {
   "cell_type": "markdown",
   "id": "818c0e7a-88e2-45ff-861c-3c7fc416ea77",
   "metadata": {},
   "source": [
    "in this case the best number of neighbors from a  was k = 19 with a round 74% accuracy.\n",
    "\n",
    "Now we will evaluate on the test set"
   ]
  },
  {
   "cell_type": "code",
   "execution_count": null,
   "id": "876c3b15-0163-4896-a2cb-ebcd3089201d",
   "metadata": {},
   "outputs": [],
   "source": [
    "set.seed(111)\n",
    "\n",
    "player_recipe <- recipe(subscribe ~ Age + played_hours, data = player_train) |>\n",
    "  step_scale(all_predictors()) |>\n",
    "  step_center(all_predictors())\n",
    "\n",
    "knn_spec2 <- nearest_neighbor(weight_func = \"rectangular\", neighbors = best_k) |>\n",
    "  set_engine(\"kknn\") |>\n",
    "  set_mode(\"classification\")\n",
    "\n",
    "knn_fit2 <- workflow() |>\n",
    "  add_recipe(player_recipe) |>\n",
    "  add_model(knn_spec2) |>\n",
    "  fit(data = player_train)\n",
    "\n",
    "knn_fit2"
   ]
  },
  {
   "cell_type": "markdown",
   "id": "b82db29b-9759-4be0-85f5-19e71c6dbdb8",
   "metadata": {},
   "source": [
    "Now we will look at accuracy, recall and precision to see if there any improvement"
   ]
  },
  {
   "cell_type": "code",
   "execution_count": null,
   "id": "4cd9e116-49ba-4fac-a8cb-e6822719fd02",
   "metadata": {},
   "outputs": [],
   "source": [
    "set.seed(111)\n",
    "\n",
    "player_test_predictions2 <- predict(knn_fit2, player_test) |>\n",
    "  bind_cols(player_test)\n",
    "\n",
    "player_test_predictions2 |>\n",
    "  metrics(truth = subscribe, estimate = .pred_class) |>\n",
    "  filter(.metric == \"accuracy\")\n",
    "\n",
    "\n",
    "player_test_predictions2 |>\n",
    "    precision(truth = subscribe, estimate = .pred_class, event_level=\"first\")\n",
    "\n",
    "player_test_predictions2 |>\n",
    "    recall(truth = subscribe, estimate = .pred_class, event_level=\"first\")\n",
    "\n",
    "confusion <- player_test_predictions2 |>\n",
    "             conf_mat(truth = subscribe, estimate = .pred_class)\n",
    "confusion"
   ]
  },
  {
   "cell_type": "markdown",
   "id": "a76e1f76-ffcc-4725-9ae5-a65ced0ed9ee",
   "metadata": {},
   "source": [
    "plot acuracy vs k values with the tuning results"
   ]
  },
  {
   "cell_type": "code",
   "execution_count": null,
   "id": "2d818034-3b85-4c62-8d8f-bfab51673e28",
   "metadata": {},
   "outputs": [],
   "source": [
    "conf_tibble <- as_tibble(confusion$table)\n",
    "conf_tibble\n",
    "\n"
   ]
  },
  {
   "cell_type": "code",
   "execution_count": null,
   "id": "28d6a6c9-7a48-411b-bf8d-3f89a211ad00",
   "metadata": {},
   "outputs": [],
   "source": [
    "bar_plot <- conf_tibble |>\n",
    "    ggplot(aes(x = Truth, y = n, fill = Prediction)) +\n",
    "  geom_bar(stat = \"identity\", position = \"fill\") +\n",
    "  labs(\n",
    "    title = \"Figure 3. Confusion Matrix as Bar Plot\",\n",
    "    x = \"ACTUAL Subscription Status\",\n",
    "    y = \"Number of Players\",\n",
    "    fill = \"Predicted Status by classifier\"\n",
    "  ) +\n",
    "  theme_minimal()\n",
    "\n",
    "bar_plot"
   ]
  },
  {
   "cell_type": "code",
   "execution_count": null,
   "id": "ec2a1319-29e4-4d39-8ae3-90854d351abe",
   "metadata": {},
   "outputs": [],
   "source": []
  }
 ],
 "metadata": {
  "kernelspec": {
   "display_name": "R",
   "language": "R",
   "name": "ir"
  },
  "language_info": {
   "codemirror_mode": "r",
   "file_extension": ".r",
   "mimetype": "text/x-r-source",
   "name": "R",
   "pygments_lexer": "r",
   "version": "4.3.3"
  }
 },
 "nbformat": 4,
 "nbformat_minor": 5
}
