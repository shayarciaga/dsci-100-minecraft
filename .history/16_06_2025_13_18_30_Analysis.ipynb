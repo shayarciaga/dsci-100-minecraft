{
 "cells": [
  {
   "cell_type": "markdown",
   "id": "7c0576d1-5452-4483-8099-1b505dbc4b79",
   "metadata": {},
   "source": [
    "T"
   ]
  }
 ],
 "metadata": {
  "kernelspec": {
   "display_name": "R",
   "language": "R",
   "name": "ir"
  },
  "language_info": {
   "codemirror_mode": "r",
   "file_extension": ".r",
   "mimetype": "text/x-r-source",
   "name": "R",
   "pygments_lexer": "r",
   "version": "4.3.3"
  }
 },
 "nbformat": 4,
 "nbformat_minor": 5
}
