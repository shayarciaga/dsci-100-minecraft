{
 "cells": [
  {
   "cell_type": "markdown",
   "id": "7c0576d1-5452-4483-8099-1b505dbc4b79",
   "metadata": {},
   "source": [
    "# Data Science project\n",
    "\n",
    "This project explores the MineCraft server and player data collected from Frank Woods reseach group in Computer Science at UBC. \n",
    "\n",
    "https://plai.cs.ubc.ca/\n",
    "https://www.cs.ubc.ca/~fwood/"
   ]
  },
  {
   "cell_type": "markdown",
   "id": "f6691eda-8c8a-48ac-8261-d97d53cb2ebe",
   "metadata": {
    "jp-MarkdownHeadingCollapsed": true
   },
   "source": [
    "\n",
    "\n",
    "# Predictive question: Is there a relationship between hours played and age that predicts wheather a player has a newsletter subscription?\n",
    "\n",
    "In the `player.csv` data set, \n",
    "\n",
    "- experience: a rank ascending from begeinner, amature, regular, pro and veteran\n",
    "- subscribe: whether the individual is subscribed or not to the newsletter\n",
    "- hashedEmail: individuals encrypted email address\n",
    "- played_hours: how many hours an individual player within XXXXX\n",
    "- name: individuals first name\n",
    "- gender: individuals gender\n",
    "- Age: individuals gender\n",
    "\n"
   ]
  },
  {
   "cell_type": "code",
   "execution_count": null,
   "id": "6d23f86d-442d-4654-b55c-c09cabc50996",
   "metadata": {},
   "outputs": [],
   "source": [
    "library(tidyverse)\n",
    "library(repr)\n",
    "library(tidymodels)\n",
    "options(repr.matrix.max.rows = 6)"
   ]
  },
  {
   "cell_type": "markdown",
   "id": "e6b797b3-7c61-4062-b04b-a11d0fcda52f",
   "metadata": {},
   "source": [
    "# Data Exploration and Visualization"
   ]
  },
  {
   "cell_type": "code",
   "execution_count": null,
   "id": "e6c0391c-9b6f-42de-9f0f-809b06315eee",
   "metadata": {},
   "outputs": [],
   "source": [
    "set.seed(1)\n",
    "player_data <- read_csv(\"data/players.csv\") |>\n",
    "    mutate(subscribe = as_factor(subscribe))\n",
    "player_data"
   ]
  },
  {
   "cell_type": "code",
   "execution_count": null,
   "id": "2b7a75ed-1790-44b9-ad19-92407577019e",
   "metadata": {},
   "outputs": [],
   "source": [
    "select_player_data <- player_data |> \n",
    "    select(subscribe, Age, played_hours)\n",
    "select_player_data\n",
    "\n",
    "summary(select_player_data)"
   ]
  },
  {
   "cell_type": "code",
   "execution_count": null,
   "id": "53164770-7efe-405f-b37d-66e12fd564ac",
   "metadata": {},
   "outputs": [],
   "source": [
    "options(repr.plot.height = 6, repr.plot.width = 9)\n",
    "\n",
    "player_data_plot <- select_player_data |>\n",
    "    ggplot(aes(x = played_hours, y = Age, color = subscribe)) +\n",
    "    geom_point(alpha = 0.4) +\n",
    "    labs(x = \"Number of hours played\", \n",
    "         y = \"Age\", \n",
    "         title = \"Figure 1 Exploring relationship b/w Age and Number of hours played on subscription\",\n",
    "        color = \"subsciption\") +  \n",
    "    theme(text = element_text(size = 13))\n",
    "player_data_plot "
   ]
  },
  {
   "cell_type": "markdown",
   "id": "2f14bf3d-8d1f-4944-abf7-534ebb093dd9",
   "metadata": {},
   "source": [
    "From Figure 1. we can clearly see that all individuals with a high number of 25+ hours played have newsletter subscription. However, individuals with 0 hours vary in subscriptions "
   ]
  },
  {
   "cell_type": "markdown",
   "id": "cb7f6faa-3d36-425a-803d-6e506527680a",
   "metadata": {},
   "source": [
    "# Data Analysis\n",
    "To determine if there's a relationship between hours played and age that predicts whether a player has a subscription, I approached this question as a classification problem.\n",
    "\n",
    "`subscribe` has 2 categories `TRUE`(subscribed) or `FALSE`(unsubscribed) and as the outcome variable we turned it into a factor in the previous lines of code."
   ]
  },
  {
   "cell_type": "markdown",
   "id": "2d119b86-a72c-4fde-afb4-323576f4327f",
   "metadata": {},
   "source": [
    "Split data and evaluate proportions "
   ]
  },
  {
   "cell_type": "code",
   "execution_count": null,
   "id": "59b0141b-81da-4ef0-8057-2053e7a2f418",
   "metadata": {},
   "outputs": [],
   "source": [
    "player_split <- initial_split(player_data, prop = 0.75, strata = subscribe)\n",
    "player_train <- training(player_split)\n",
    "player_test <- testing(player_split)\n",
    "\n",
    "player_train <- player_train |>\n",
    "    drop_na()\n",
    "player_test <- player_test |>\n",
    "    drop_na()\n",
    "\n",
    "player_train_proportions <- player_train |>\n",
    "                      group_by(subscribe) |>\n",
    "                      summarize(n = n()) |>\n",
    "                      mutate(percent = 100*n/nrow(player_train))\n",
    "\n",
    "player_train_proportions"
   ]
  },
  {
   "cell_type": "markdown",
   "id": "aaf914b9-4842-459a-8db0-b289a7fd4a4d",
   "metadata": {},
   "source": [
    "Looking at the proportions in the training data, we need to keep in mind that there isnt an equal amount of people subscribed and unsubscribed so we want to make sure we calculate recall (to catch as many sctual subscibers) and precision (to be correct most of the time)"
   ]
  },
  {
   "cell_type": "markdown",
   "id": "8aec3330-4799-42fd-97c7-e20dc0d767f5",
   "metadata": {},
   "source": [
    "Preprocess data and train the classifier \n",
    "\n",
    "to standardize with the training data, make a model with k = 3 (just a guess by looking at Figure 1) and combine them with workflow then fit to build classifier"
   ]
  },
  {
   "cell_type": "code",
   "execution_count": null,
   "id": "31fe515d-6a8b-4b51-b0e0-8a1acab9d487",
   "metadata": {},
   "outputs": [],
   "source": [
    "player_recipe <- recipe(subscribe ~ Age + played_hours, data = player_train) |>\n",
    "  step_scale(all_predictors()) |>\n",
    "  step_center(all_predictors())\n",
    "\n",
    "knn_spec <- nearest_neighbor(weight_func = \"rectangular\", neighbors = 3) |>\n",
    "  set_engine(\"kknn\") |>\n",
    "  set_mode(\"classification\")\n",
    "\n",
    "\n",
    "knn_fit <- workflow() |>\n",
    "  add_recipe(player_recipe) |>\n",
    "  add_model(knn_spec) |>\n",
    "  fit(data = player_train)\n",
    "\n",
    "knn_fit\n"
   ]
  },
  {
   "cell_type": "markdown",
   "id": "94563cd0-ca7b-4c53-aec9-7aeeb0e1f130",
   "metadata": {},
   "source": [
    "predicting labels in the test set and evaluating our classifier's performance"
   ]
  },
  {
   "cell_type": "code",
   "execution_count": null,
   "id": "bf8c7f5b-9810-44d7-ad43-968a8dbfcc9c",
   "metadata": {},
   "outputs": [],
   "source": [
    "set.seed(1)\n",
    "player_test_predictions <- predict(knn_fit, player_test) |>\n",
    "  bind_cols(player_test)\n",
    "\n",
    "player_test_predictions\n",
    "\n",
    "\n",
    "player_test_predictions |>\n",
    "  metrics(truth = subscribe, estimate = .pred_class) |>\n",
    "  filter(.metric == \"accuracy\")\n",
    "\n",
    "player_test_predictions |> pull(subscribe) |> levels()\n",
    "\n",
    "player_test_predictions |>\n",
    "  precision(truth = subscribe, estimate = .pred_class, event_level = \"first\")\n",
    "\n",
    "player_test_predictions |>\n",
    "  recall(truth = subscribe, estimate = .pred_class, event_level = \"first\")\n",
    "\n",
    "confusion <- player_test_predictions |>\n",
    "             conf_mat(truth = subscribe, estimate = .pred_class)\n",
    "confusion\n",
    "\n",
    "\n"
   ]
  },
  {
   "cell_type": "markdown",
   "id": "40d98d65-2dc3-4136-8ec1-ff1ff77eb855",
   "metadata": {},
   "source": [
    "Evaluating the performance with a random k values of 3, 51% accuracy, 21% precision and 30% recall is not very good.\n",
    "\n",
    "We are going to try and improve these percentages by with tuning the classifier with cross validation (multiple splits)"
   ]
  },
  {
   "cell_type": "markdown",
   "id": "f3aa29d1-b4d9-47ec-89d9-918eb0a105fa",
   "metadata": {},
   "source": [
    "Cross - validation"
   ]
  },
  {
   "cell_type": "code",
   "execution_count": null,
   "id": "343935cb-90e2-4702-9883-12d8a1a42398",
   "metadata": {},
   "outputs": [],
   "source": [
    "set.seed(1)\n",
    "\n",
    "player_vfold <- vfold_cv(player_train, v = 10, strata = subscribe)\n",
    "\n",
    "player_recipe <- recipe(subscribe ~ Age + played_hours,\n",
    "                        data = player_train) |>\n",
    "  step_scale(all_predictors()) |>\n",
    "  step_center(all_predictors())\n",
    "\n",
    "knn_spec <- nearest_neighbor(weight_func = \"rectangular\",\n",
    "                             neighbors = tune()) |>\n",
    "  set_engine(\"kknn\") |>\n",
    "  set_mode(\"classification\")\n",
    "\n",
    "k_vals <- tibble(neighbors = seq(from = 1, to = 10, by = 1))\n",
    "\n",
    "knn_results <- workflow() |>\n",
    "  add_recipe(player_recipe) |>\n",
    "  add_model(knn_spec) |>\n",
    "  tune_grid(resamples = player_vfold, grid = k_vals) |>\n",
    "  collect_metrics()\n",
    "\n",
    "accuracies <- knn_results |>\n",
    "  filter(.metric == \"accuracy\")\n",
    "\n",
    "accuracies\n"
   ]
  },
  {
   "cell_type": "code",
   "execution_count": null,
   "id": "a233f13c-a740-49e1-8117-1e35b8844b29",
   "metadata": {},
   "outputs": [],
   "source": [
    "set.seed(1)\n",
    "\n",
    "accuracy_vs_k <- ggplot(accuracies, aes(x = neighbors, y = mean)) +\n",
    "  geom_point() +\n",
    "  geom_line() +\n",
    "  labs(x = \"Neighbors\", \n",
    "       y = \"Accuracy Estimate\",\n",
    "      title = \"Figure 2 K neighbors VS accuracy estimate\") +\n",
    "  theme(text = element_text(size = 12))\n",
    "\n",
    "accuracy_vs_k\n",
    "\n",
    "best_k <- accuracies |>\n",
    "        arrange(desc(mean)) |>\n",
    "        head(1) |>\n",
    "        pull(neighbors)\n",
    "best_k"
   ]
  },
  {
   "cell_type": "markdown",
   "id": "818c0e7a-88e2-45ff-861c-3c7fc416ea77",
   "metadata": {},
   "source": [
    "in this case the best number of neighbors from a  was k = 7 with a round 67% accuracy.\n",
    "\n",
    "Now we will evaluate on the test set"
   ]
  },
  {
   "cell_type": "code",
   "execution_count": null,
   "id": "876c3b15-0163-4896-a2cb-ebcd3089201d",
   "metadata": {},
   "outputs": [],
   "source": [
    "set.seed(1)\n",
    "\n",
    "player_recipe <- recipe(subscribe ~ Age + played_hours, data = player_train) |>\n",
    "  step_scale(all_predictors()) |>\n",
    "  step_center(all_predictors())\n",
    "\n",
    "knn_spec2 <- nearest_neighbor(weight_func = \"rectangular\", neighbors = best_k) |>\n",
    "  set_engine(\"kknn\") |>\n",
    "  set_mode(\"classification\")\n",
    "\n",
    "knn_fit2 <- workflow() |>\n",
    "  add_recipe(player_recipe) |>\n",
    "  add_model(knn_spec) |>\n",
    "  fit(data = player_train)\n",
    "\n",
    "knn_fit2"
   ]
  },
  {
   "cell_type": "markdown",
   "id": "b82db29b-9759-4be0-85f5-19e71c6dbdb8",
   "metadata": {},
   "source": [
    "Now we will look at accuracy, recall and precision to see if there any improvement"
   ]
  },
  {
   "cell_type": "code",
   "execution_count": null,
   "id": "4cd9e116-49ba-4fac-a8cb-e6822719fd02",
   "metadata": {},
   "outputs": [],
   "source": [
    "set.seed(1)\n",
    "\n",
    "player_test_predictions2 <- predict(knn_fit2, player_test) |>\n",
    "  bind_cols(player_test)\n",
    "\n",
    "player_test_predictions2 |>\n",
    "  metrics(truth = subscribe, estimate = .pred_class) |>\n",
    "  filter(.metric == \"accuracy\")\n",
    "\n",
    "table(player_train$subscribe)\n",
    "table(player_test$subscribe)\n",
    "\n",
    "\n",
    "player_test_predictions2 |>\n",
    "    precision(truth = subscribe, estimate = .pred_class, event_level=\"first\")\n",
    "\n",
    "player_test_predictions2 |>\n",
    "    recall(truth = subscribe, estimate = .pred_class, event_level=\"first\")\n",
    "\n",
    "confusion <- player_test_predictions2 |>\n",
    "             conf_mat(truth = subscribe, estimate = .pred_class)\n",
    "confusion"
   ]
  },
  {
   "cell_type": "markdown",
   "id": "d2b4e53f-1e24-47e6-b4fb-eeb4268dd6d2",
   "metadata": {},
   "source": [
    "There was an improvement to accuracy, recall and precision of around 8% by tuning the k value from k=3 to k=7. "
   ]
  },
  {
   "cell_type": "markdown",
   "id": "a76e1f76-ffcc-4725-9ae5-a65ced0ed9ee",
   "metadata": {},
   "source": [
    "plot acuracy vs k values with the tuning results"
   ]
  }
 ],
 "metadata": {
  "kernelspec": {
   "display_name": "R",
   "language": "R",
   "name": "ir"
  },
  "language_info": {
   "codemirror_mode": "r",
   "file_extension": ".r",
   "mimetype": "text/x-r-source",
   "name": "R",
   "pygments_lexer": "r",
   "version": "4.3.3"
  }
 },
 "nbformat": 4,
 "nbformat_minor": 5
}
