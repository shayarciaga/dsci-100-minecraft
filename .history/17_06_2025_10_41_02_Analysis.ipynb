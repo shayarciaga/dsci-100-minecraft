{
 "cells": [
  {
   "cell_type": "markdown",
   "id": "7c0576d1-5452-4483-8099-1b505dbc4b79",
   "metadata": {},
   "source": [
    "# Data Science project\n",
    "\n",
    "This project explores the MineCraft server and player data collected from Frank Woods reseach group in Computer Science at UBC. \n",
    "\n",
    "https://plai.cs.ubc.ca/\n",
    "https://www.cs.ubc.ca/~fwood/"
   ]
  },
  {
   "cell_type": "markdown",
   "id": "f6691eda-8c8a-48ac-8261-d97d53cb2ebe",
   "metadata": {},
   "source": [
    "\n",
    "\n",
    "# Predictive question: Can hours played predict wheather a player has a newsletter subscription?\n",
    "\n",
    "In the `player.csv` data set, \n",
    "\n",
    "- `played_hours` ranges from 0.000 to 223.100\n",
    "- `subscribe` had obervations TRUE or FALSE correlating with a subscription or not\n",
    "\n"
   ]
  },
  {
   "cell_type": "code",
   "execution_count": null,
   "id": "6d23f86d-442d-4654-b55c-c09cabc50996",
   "metadata": {},
   "outputs": [],
   "source": [
    "library(tidyverse)\n",
    "library(repr)\n",
    "library(tidymodels)\n",
    "options(repr.matrix.max.rows = 6)\n",
    "source(\"cleanup.R\")"
   ]
  },
  {
   "cell_type": "code",
   "execution_count": null,
   "id": "e6c0391c-9b6f-42de-9f0f-809b06315eee",
   "metadata": {},
   "outputs": [],
   "source": [
    "player_data <- read_csv(\"data/players.csv\")\n",
    "player_data\n",
    "\n",
    "summary(player_data)"
   ]
  },
  {
   "cell_type": "code",
   "execution_count": null,
   "id": "2b7a75ed-1790-44b9-ad19-92407577019e",
   "metadata": {},
   "outputs": [],
   "source": [
    "player_data |> \n",
    "    select("
   ]
  }
 ],
 "metadata": {
  "kernelspec": {
   "display_name": "R",
   "language": "R",
   "name": "ir"
  },
  "language_info": {
   "codemirror_mode": "r",
   "file_extension": ".r",
   "mimetype": "text/x-r-source",
   "name": "R",
   "pygments_lexer": "r",
   "version": "4.3.3"
  }
 },
 "nbformat": 4,
 "nbformat_minor": 5
}
